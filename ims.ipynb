{
 "cells": [
  {
   "cell_type": "code",
   "execution_count": 2,
   "id": "14d068b8",
   "metadata": {},
   "outputs": [],
   "source": [
    "fd= open(\"list.txt\",'r')\n",
    "txt=fd.read()\n",
    "fd.close()"
   ]
  },
  {
   "cell_type": "code",
   "execution_count": 3,
   "id": "23359256",
   "metadata": {},
   "outputs": [
    {
     "data": {
      "text/plain": [
       "'1001,Drink,45,95\\n1002,Cake,300,7\\n1003,Chocolate,18,40'"
      ]
     },
     "execution_count": 3,
     "metadata": {},
     "output_type": "execute_result"
    }
   ],
   "source": [
    "txt"
   ]
  },
  {
   "cell_type": "code",
   "execution_count": 4,
   "id": "6e7b4e48",
   "metadata": {},
   "outputs": [],
   "source": [
    "products=txt.split(\"\\n\")"
   ]
  },
  {
   "cell_type": "code",
   "execution_count": 5,
   "id": "b010839c",
   "metadata": {},
   "outputs": [
    {
     "name": "stdout",
     "output_type": "stream",
     "text": [
      "1001,Drink,45,95\n",
      "1002,Cake,300,7\n",
      "1003,Chocolate,18,40\n"
     ]
    }
   ],
   "source": [
    "for i in products:\n",
    "    print(i)"
   ]
  },
  {
   "cell_type": "code",
   "execution_count": 6,
   "id": "5dabbb22",
   "metadata": {},
   "outputs": [
    {
     "name": "stdout",
     "output_type": "stream",
     "text": [
      "1001\n",
      "Drink\n",
      "45\n",
      "95\n",
      "1002\n",
      "Cake\n",
      "300\n",
      "7\n",
      "1003\n",
      "Chocolate\n",
      "18\n",
      "40\n"
     ]
    }
   ],
   "source": [
    "for i in products:\n",
    "    prod=i.split(\",\")\n",
    "    \n",
    "    print(prod[0])\n",
    "    print(prod[1])\n",
    "    print(prod[2])\n",
    "    print(prod[3])"
   ]
  },
  {
   "cell_type": "markdown",
   "id": "424898fd",
   "metadata": {},
   "source": [
    "# Purchase:\n"
   ]
  },
  {
   "cell_type": "code",
   "execution_count": 7,
   "id": "bd74bffb",
   "metadata": {},
   "outputs": [
    {
     "name": "stdout",
     "output_type": "stream",
     "text": [
      "Enter product id:  1001\n",
      "Enter the quantity: 2\n",
      "****************************\n",
      "Produt id: 1001\n",
      "Item name: Drink\n",
      "Prince of one piece: 45\n",
      "Amount: 90\n"
     ]
    }
   ],
   "source": [
    "ui_prod=str(input(\"Enter product id:  \"))\n",
    "ui_quan=input(\"Enter the quantity: \")\n",
    "\n",
    "for i in products:\n",
    "    prod=i.split(\",\")\n",
    "    if(ui_prod==prod[0]):\n",
    "        print(\"****************************\")\n",
    "        print(\"Produt id:\",prod[0])\n",
    "        print(\"Item name:\",prod[1])\n",
    "        print(\"Prince of one piece:\",prod[2])\n",
    "        \n",
    "        print(\"Amount:\",int(ui_quan)*int(prod[2]))\n",
    "        "
   ]
  },
  {
   "cell_type": "markdown",
   "id": "bfa49a47",
   "metadata": {},
   "source": [
    "# Add items:"
   ]
  },
  {
   "cell_type": "code",
   "execution_count": 9,
   "id": "77f27ba7",
   "metadata": {},
   "outputs": [
    {
     "data": {
      "text/plain": [
       "'1001,Drink,45,95\\n1002,Cake,300,7\\n1003,Chocolate,18,40'"
      ]
     },
     "execution_count": 9,
     "metadata": {},
     "output_type": "execute_result"
    }
   ],
   "source": [
    "txt"
   ]
  },
  {
   "cell_type": "code",
   "execution_count": 10,
   "id": "bfb9bf62",
   "metadata": {},
   "outputs": [
    {
     "name": "stdout",
     "output_type": "stream",
     "text": [
      "Enter the product id:1004\n",
      "Enter nme:Lays\n",
      "Enter price:20\n",
      "Enter quantity:50\n"
     ]
    }
   ],
   "source": [
    "prod_id=str(input(\"Enter the product id:\"))\n",
    "name=str(input(\"Enter nme:\"))\n",
    "pr=int(input(\"Enter price:\"))\n",
    "qn=int(input(\"Enter quantity:\"))\n",
    "\n",
    "txt[prod_id]={'name':name,'pr':pr,'qn':qn}\n",
    "js=jason.dumps{reord}\n",
    "fd=open(\"record.jason\",'w')\n",
    "fd.write(js)\n",
    "fd.close()"
   ]
  },
  {
   "cell_type": "markdown",
   "id": "9e720620",
   "metadata": {},
   "source": [
    "# Deleting items from list"
   ]
  },
  {
   "cell_type": "code",
   "execution_count": null,
   "id": "ca6b955f",
   "metadata": {},
   "outputs": [],
   "source": []
  },
  {
   "cell_type": "code",
   "execution_count": 24,
   "id": "37b37725",
   "metadata": {},
   "outputs": [],
   "source": [
    "new_record=[]\n",
    "for product in products:\n",
    "    prod=product.split(\",\")\n",
    "    if(ui_prod==prod[0]):\n",
    "        prod[3]=str(int(prod[3]) - int(ui_quan))\n",
    "        \n",
    "    new_record.append(prod[0]+\",\"+prod[1]+\",\"+prod[2]+\",\"+prod[3]+\"\\n\")\n",
    "new_record[-1]=new_record[-1][:-1]"
   ]
  },
  {
   "cell_type": "code",
   "execution_count": null,
   "id": "a3bae0b4",
   "metadata": {},
   "outputs": [],
   "source": []
  },
  {
   "cell_type": "code",
   "execution_count": 25,
   "id": "bbea813b",
   "metadata": {},
   "outputs": [
    {
     "name": "stdout",
     "output_type": "stream",
     "text": [
      "['1001,Drink,45,94\\n', '1002,Cake,300,7\\n', '1003,Chocolate,18,40']\n"
     ]
    }
   ],
   "source": [
    "print(new_record)"
   ]
  },
  {
   "cell_type": "code",
   "execution_count": null,
   "id": "d94ecaa1",
   "metadata": {},
   "outputs": [],
   "source": []
  }
 ],
 "metadata": {
  "kernelspec": {
   "display_name": "Python 3",
   "language": "python",
   "name": "python3"
  },
  "language_info": {
   "codemirror_mode": {
    "name": "ipython",
    "version": 3
   },
   "file_extension": ".py",
   "mimetype": "text/x-python",
   "name": "python",
   "nbconvert_exporter": "python",
   "pygments_lexer": "ipython3",
   "version": "3.8.8"
  }
 },
 "nbformat": 4,
 "nbformat_minor": 5
}
